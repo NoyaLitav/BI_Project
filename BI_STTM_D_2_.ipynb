{
  "cells": [
    {
      "cell_type": "markdown",
      "metadata": {
        "id": "view-in-github"
      },
      "source": [
        "<a href=\"https://colab.research.google.com/github/Saharg8/BI-Project-ChicagoCrimes/blob/main/BI_STTM_D_.ipynb\" target=\"_parent\"><img src=\"https://colab.research.google.com/assets/colab-badge.svg\" alt=\"Open In Colab\"/></a>"
      ],
      "id": "view-in-github"
    },
    {
      "cell_type": "code",
      "execution_count": 1,
      "id": "f5558d7b",
      "metadata": {
        "id": "f5558d7b",
        "colab": {
          "base_uri": "https://localhost:8080/"
        },
        "outputId": "f77b2a9e-651b-4b7c-e457-85d626239b3a"
      },
      "outputs": [
        {
          "output_type": "stream",
          "name": "stdout",
          "text": [
            "Collecting jsonpath_ng\n",
            "  Downloading jsonpath_ng-1.5.3-py3-none-any.whl (29 kB)\n",
            "Collecting ply (from jsonpath_ng)\n",
            "  Downloading ply-3.11-py2.py3-none-any.whl (49 kB)\n",
            "\u001b[2K     \u001b[90m━━━━━━━━━━━━━━━━━━━━━━━━━━━━━━━━━━━━━━━━\u001b[0m \u001b[32m49.6/49.6 kB\u001b[0m \u001b[31m2.6 MB/s\u001b[0m eta \u001b[36m0:00:00\u001b[0m\n",
            "\u001b[?25hRequirement already satisfied: decorator in /usr/local/lib/python3.10/dist-packages (from jsonpath_ng) (4.4.2)\n",
            "Requirement already satisfied: six in /usr/local/lib/python3.10/dist-packages (from jsonpath_ng) (1.16.0)\n",
            "Installing collected packages: ply, jsonpath_ng\n",
            "Successfully installed jsonpath_ng-1.5.3 ply-3.11\n"
          ]
        }
      ],
      "source": [
        "!pip install jsonpath_ng"
      ]
    },
    {
      "cell_type": "code",
      "execution_count": 22,
      "id": "3921b280",
      "metadata": {
        "id": "3921b280"
      },
      "outputs": [],
      "source": [
        "import os\n",
        "import csv\n",
        "import json\n",
        "import numpy as np\n",
        "import pandas as pd\n",
        "import datetime\n",
        "import sqlite3\n",
        "import collections\n",
        "import functools as ft\n",
        "import matplotlib.pyplot as plt\n",
        "from abc import ABC, abstractmethod\n",
        "from jsonpath_ng import parse\n",
        "from enum import Enum\n",
        "%matplotlib inline"
      ]
    },
    {
      "cell_type": "markdown",
      "id": "2665d8aa",
      "metadata": {
        "id": "2665d8aa"
      },
      "source": [
        "# Source to Target Mapping - OOP Approach for Single Table"
      ]
    },
    {
      "cell_type": "markdown",
      "id": "8b39940a",
      "metadata": {
        "id": "8b39940a"
      },
      "source": [
        "### Data"
      ]
    },
    {
      "cell_type": "code",
      "execution_count": 23,
      "id": "9b9fdbe2",
      "metadata": {
        "id": "9b9fdbe2"
      },
      "outputs": [],
      "source": [
        "data = pd.read_csv('Areas Codes and Names.csv', encoding='latin1')\n",
        "data.to_json('Areas Codes and Names.json')\n",
        "json_data = data.astype(str).to_dict(orient='records')\n",
        "\n",
        "# json_data\n",
        "# json_data[:3]"
      ]
    },
    {
      "cell_type": "markdown",
      "id": "eaea4a93",
      "metadata": {
        "id": "eaea4a93"
      },
      "source": [
        "###  Abstract Base Calss (ABC) for mutual methods"
      ]
    },
    {
      "cell_type": "code",
      "execution_count": 24,
      "id": "c547de69",
      "metadata": {
        "id": "c547de69"
      },
      "outputs": [],
      "source": [
        "class Interface(ABC):\n",
        "\n",
        "    @abstractmethod\n",
        "    def get_data_by_field(self, field_name):\n",
        "        \"\"\"Fetch the data by given feild name \"\"\"\n",
        "\n",
        "    @abstractmethod\n",
        "    def get_data_by_id(self, id):\n",
        "        \"\"\"Fetch the data by given ID  \"\"\"\n",
        "\n",
        "    @abstractmethod\n",
        "    def get(self):\n",
        "        \"\"\"Fetch all data \"\"\""
      ]
    },
    {
      "cell_type": "markdown",
      "id": "9954a470",
      "metadata": {
        "id": "9954a470"
      },
      "source": [
        "### Transform Operations\n",
        "inherithed from Enum - class that automatic enumrate the variables"
      ]
    },
    {
      "cell_type": "code",
      "execution_count": 25,
      "id": "8bb25a7d",
      "metadata": {
        "id": "8bb25a7d"
      },
      "outputs": [],
      "source": [
        "class TransformMask(Enum):\n",
        "    # add here any masks you want\n",
        "    CLEAN_STRING = \".strip().lower()\"\n",
        "    CAPITAL_LETTER = \".strip().lower().title()\"\n"
      ]
    },
    {
      "cell_type": "markdown",
      "id": "72525d22",
      "metadata": {
        "id": "72525d22"
      },
      "source": [
        "### Database Class - Define Common Properties for Source, Target, Mapping"
      ]
    },
    {
      "cell_type": "code",
      "execution_count": 26,
      "id": "800161b9",
      "metadata": {
        "id": "800161b9"
      },
      "outputs": [],
      "source": [
        "class Database:\n",
        "    def __init__(self):\n",
        "        pass\n",
        "\n",
        "    # built-in function that creates and returns a property object\n",
        "    # get data by: get_data_source_target_mapping.get(dict_key)\n",
        "    @property\n",
        "    def get_data_source_target_mapping(self):\n",
        "        return {\n",
        "            \"source\": [\n",
        "                {\n",
        "                    \"id\": 1,\n",
        "                    \"source_field_name\": \"number\",\n",
        "                    \"source_field_mapping\": \"$.number\",\n",
        "                    \"source_field_type\": \"str\",\n",
        "                    \"is_required\": True,\n",
        "\n",
        "                },\n",
        "                {\n",
        "                    \"id\": 2,\n",
        "                    \"source_field_name\": \"Name\",\n",
        "                    \"source_field_mapping\": \"$.Name\",\n",
        "                    \"source_field_type\": \"str\",\n",
        "                    \"is_required\": True,\n",
        "\n",
        "                },\n",
        "                {\n",
        "                    \"id\": 3,\n",
        "                    \"source_field_name\": \"Population2020\",\n",
        "                    \"source_field_mapping\": \"$.Population2020\",\n",
        "                    \"source_field_type\": \"str\",\n",
        "                    \"is_required\": True,\n",
        "\n",
        "                },\n",
        "\n",
        "            ],\n",
        "            \"destination\": [\n",
        "                {\n",
        "                    \"id\": 1,\n",
        "                    \"destination_field_name\": \"AreaNumber\",\n",
        "                    \"destination_field_mapping\": \"AreaNumber\",\n",
        "                    \"destination_field_type\": \"str\",\n",
        "                    \"default_value\": \"n/a\",\n",
        "                },\n",
        "                {\n",
        "                    \"id\": 2,\n",
        "                    \"destination_field_name\": \"AreaName\",\n",
        "                    \"destination_field_mapping\": \"AreaName\",\n",
        "                    \"destination_field_type\": \"str\",\n",
        "                    \"default_value\": \"n/a\"\n",
        "                },\n",
        "                {\n",
        "                    \"id\": 3,\n",
        "                    \"destination_field_name\": \"Population2020\",\n",
        "                    \"destination_field_mapping\": \"Population2020\",\n",
        "                    \"destination_field_type\": \"int\",\n",
        "                    \"default_value\": \"0\"\n",
        "                },\n",
        "            ],\n",
        "            \"transform\": [\n",
        "                {\n",
        "                    \"id\": 1,\n",
        "                    \"transform_mask\": 'CAPITAL_LETTER'\n",
        "                },\n",
        "                {\n",
        "                    \"id\": 2,\n",
        "                    \"transform_mask\": 'CLEAN_STRING'\n",
        "                }\n",
        "            ],\n",
        "            \"mapping\": [\n",
        "                {\n",
        "                    \"id\": 1,\n",
        "                    \"mapping_source\": 1,\n",
        "                    \"mapping_destination\": 1\n",
        "                },\n",
        "                {\n",
        "                    \"id\": 2,\n",
        "                    \"mapping_source\": 2,\n",
        "                    \"mapping_destination\": 2,\n",
        "                    \"mapping_transform\": 1,\n",
        "                    \"mapping_transform\": 2\n",
        "                },\n",
        "                {\n",
        "                    \"id\": 3,\n",
        "                    \"mapping_source\": 3,\n",
        "                    \"mapping_destination\": 3\n",
        "                },\n",
        "            ]\n",
        "        }"
      ]
    },
    {
      "cell_type": "markdown",
      "id": "f478eaee",
      "metadata": {
        "id": "f478eaee"
      },
      "source": [
        "### Source class\n",
        "\n",
        "Inherited from Interface for the common methods and from Database for common variables"
      ]
    },
    {
      "cell_type": "code",
      "execution_count": 27,
      "id": "a1922948",
      "metadata": {
        "id": "a1922948"
      },
      "outputs": [],
      "source": [
        "class Source(Interface, Database):\n",
        "    def __init__(self):\n",
        "        Database.__init__(self)\n",
        "\n",
        "    # should be implemented - inherited from Interface\n",
        "    def get_data_by_field(self, field_name):\n",
        "        data = self.get\n",
        "        for item in data:\n",
        "            for key, value in item.items():\n",
        "                if key == field_name:\n",
        "                    return item\n",
        "        return None\n",
        "\n",
        "    @property\n",
        "    def get(self):\n",
        "        return self.get_data_source_target_mapping.get(\"source\")\n",
        "\n",
        "    def get_data_by_id(self, id):\n",
        "        self.id = id\n",
        "        data = self.get\n",
        "        for x in data:\n",
        "            if x.get(\"id\") == self.id:\n",
        "                return x\n",
        "        return None"
      ]
    },
    {
      "cell_type": "markdown",
      "id": "0cce51b4",
      "metadata": {
        "id": "0cce51b4"
      },
      "source": [
        "### Target class\n",
        "\n",
        "Inherited from Interface for the common methods and from Database for common variables"
      ]
    },
    {
      "cell_type": "code",
      "execution_count": 28,
      "id": "998193f3",
      "metadata": {
        "id": "998193f3"
      },
      "outputs": [],
      "source": [
        "class Target(Interface, Database):\n",
        "\n",
        "    def __init__(self):\n",
        "        Database.__init__(self)\n",
        "\n",
        "    # should be implemented - inherited from Interface\n",
        "    def get_data_by_field(self, field_name):\n",
        "        data = self.get\n",
        "        for item in data:\n",
        "            for key, value in item.items():\n",
        "                if key == field_name:\n",
        "                    return item\n",
        "        return None\n",
        "\n",
        "    @property\n",
        "    def get(self):\n",
        "        return self.get_data_source_target_mapping.get(\"destination\")\n",
        "\n",
        "    def get_data_by_id(self, id):\n",
        "        self.id = id\n",
        "        data = self.get\n",
        "        for x in data:\n",
        "            if x.get(\"id\").__str__() == self.id.__str__():\n",
        "                return x\n",
        "        return None"
      ]
    },
    {
      "cell_type": "markdown",
      "id": "4806c5ce",
      "metadata": {
        "id": "4806c5ce"
      },
      "source": [
        "### Transform Class\n",
        "\n",
        "Inherited from Interface for the common methods and from Database for common variables"
      ]
    },
    {
      "cell_type": "code",
      "execution_count": 29,
      "id": "d0334160",
      "metadata": {
        "id": "d0334160"
      },
      "outputs": [],
      "source": [
        "class Transform(Interface, Database):\n",
        "\n",
        "    def __init__(self):\n",
        "        Database.__init__(self)\n",
        "\n",
        "    # should be implemented - inherited from Interface\n",
        "    def get_data_by_field(self, field_name):\n",
        "        data = self.get\n",
        "        for item in data:\n",
        "            for key, value in item.items():\n",
        "                if key == field_name:\n",
        "                    return item\n",
        "        return None\n",
        "\n",
        "    @property\n",
        "    def get(self):\n",
        "        return self.get_data_source_target_mapping.get(\"transform\", [])\n",
        "\n",
        "    def get_data_by_id(self, id):\n",
        "        self.id = id\n",
        "        data = self.get\n",
        "        for x in data:\n",
        "            if x.get(\"id\").__str__() == self.id.__str__():\n",
        "                return x\n",
        "        return None"
      ]
    },
    {
      "cell_type": "markdown",
      "id": "ac070eff",
      "metadata": {
        "id": "ac070eff"
      },
      "source": [
        "### Mapping class\n",
        "\n",
        "Inherited from Interface for the common methods and from Database for common variables"
      ]
    },
    {
      "cell_type": "code",
      "execution_count": 30,
      "id": "81f77956",
      "metadata": {
        "id": "81f77956"
      },
      "outputs": [],
      "source": [
        "class Mappings(Interface, Database):\n",
        "\n",
        "    def __init__(self):\n",
        "        Database.__init__(self)\n",
        "\n",
        "    @property\n",
        "    def get(self):\n",
        "        return self.get_data_source_target_mapping.get(\"mapping\")\n",
        "\n",
        "    def get_data_by_id(self, id):\n",
        "        self.id = id\n",
        "        data = self.get\n",
        "        for x in data:\n",
        "            if x.get(\"id\").__str__() == self.id.__str__():\n",
        "                return x\n",
        "        return None\n",
        "\n",
        "    def get_data_by_field(self, field_name):\n",
        "        return None"
      ]
    },
    {
      "cell_type": "markdown",
      "id": "09c8b877",
      "metadata": {
        "id": "09c8b877"
      },
      "source": [
        "### Format Class - JSON\n",
        "\n",
        "Search the source data value inside a JSON file"
      ]
    },
    {
      "cell_type": "code",
      "execution_count": 31,
      "id": "6bcee595",
      "metadata": {
        "id": "6bcee595"
      },
      "outputs": [],
      "source": [
        "class JsonQuery:\n",
        "    def __init__(self, json_path, json_data):\n",
        "        self.json_path = json_path\n",
        "        self.json_data = json_data\n",
        "\n",
        "    def get(self):\n",
        "        jsonpath_expression = parse(self.json_path)\n",
        "        match = jsonpath_expression.find(self.json_data)\n",
        "        source_data_value = match[0].value\n",
        "        return source_data_value"
      ]
    },
    {
      "cell_type": "markdown",
      "id": "c9b449d9",
      "metadata": {
        "id": "c9b449d9"
      },
      "source": [
        "### Combine it All - STTM"
      ]
    },
    {
      "cell_type": "code",
      "execution_count": 32,
      "id": "a1f47410",
      "metadata": {
        "id": "a1f47410"
      },
      "outputs": [],
      "source": [
        "class STTM:\n",
        "    def __init__(self, input_json):\n",
        "        self.input_json = input_json\n",
        "        self.mapping_instance = Mappings()\n",
        "        self.source_instance = Source()\n",
        "        self.destination_instance = Target()\n",
        "        self.transform_instance = Transform()\n",
        "        self.look_up_mask = {i.name: i.value for i in TransformMask}\n",
        "        self.json_data_transformed = {}\n",
        "\n",
        "    def _get_mapping_data(self):\n",
        "        return self.mapping_instance.get\n",
        "\n",
        "    def _get_mapping_source_data(self):\n",
        "        return self.source_instance.get\n",
        "\n",
        "    def get_transformed_data(self):\n",
        "\n",
        "        for mappings in self._get_mapping_data():\n",
        "\n",
        "            \"\"\"fetch the source mapping \"\"\"\n",
        "            mapping_source_id = mappings.get(\"mapping_source\")\n",
        "            mapping_destination_id = mappings.get(\"mapping_destination\")\n",
        "            mapping_transform_id = mappings.get(\"mapping_transform\")\n",
        "\n",
        "            mapping_source_data = self.source_instance.get_data_by_id(id=mapping_source_id)\n",
        "            transform_data = self.transform_instance.get_data_by_id(id=mapping_transform_id)\n",
        "\n",
        "            \"\"\"Fetch Source  field Name\"\"\"\n",
        "            source_field_name = mapping_source_data.get(\"source_field_name\")\n",
        "\n",
        "            \"\"\"if field given is not present incoming json \"\"\"\n",
        "            if source_field_name not in self.input_json.keys():\n",
        "                if mapping_source_data.get(\"is_required\"):\n",
        "                    raise Exception(\n",
        "                        \"Alert ! Field {} is not present in JSON please FIX mappings \".format(source_field_name))\n",
        "                else:\n",
        "                    pass\n",
        "\n",
        "            else:\n",
        "                source_data_value = JsonQuery(\n",
        "                    json_path=mapping_source_data.get(\"source_field_mapping\"),\n",
        "                    json_data=self.input_json\n",
        "                ).get()\n",
        "\n",
        "                \"\"\"check the data type for source if matches with what we have \"\"\"\n",
        "                if mapping_source_data.get(\"source_field_type\") != type(source_data_value).__name__:\n",
        "                    if source_data_value is not None:\n",
        "                        _message = (\n",
        "                            \"Alert ! Source Field :{} Datatype has changed from {} to {} \".format(source_field_name,\n",
        "                                                                                                  mapping_source_data.get(\n",
        "                                                                                                      \"source_field_type\"),\n",
        "                                                                                                  type(\n",
        "                                                                                                      source_data_value).__name__))\n",
        "                        print(_message)\n",
        "                        raise Exception(_message)\n",
        "\n",
        "                \"\"\"Query and fetch the Destination | target \"\"\"\n",
        "                destination_mappings_json_object = self.destination_instance.get_data_by_id(\n",
        "                    id=mappings.get(\"mapping_destination\"))\n",
        "\n",
        "                destination_field_name = destination_mappings_json_object.get(\"destination_field_name\")\n",
        "                destination_field_type = destination_mappings_json_object.get(\"destination_field_type\")\n",
        "\n",
        "                dtypes = [str, float, list, int, set, dict]\n",
        "\n",
        "                for dtype in dtypes:\n",
        "\n",
        "                    \"\"\"Datatype Conversion \"\"\"\n",
        "                    if destination_field_type == str(dtype.__name__):\n",
        "\n",
        "                        \"\"\"is source is none insert default value\"\"\"\n",
        "                        if source_data_value is None:\n",
        "                            self.json_data_transformed[destination_field_name] = dtype.__call__(\n",
        "                                destination_mappings_json_object.get(\"default_value\")\n",
        "                            )\n",
        "\n",
        "                        else:\n",
        "                            \"\"\"check if you have items to transform\"\"\"\n",
        "                            if transform_data is not None:\n",
        "                                \"\"\" check for invalid mask name \"\"\"\n",
        "                                if transform_data.get(\"transform_mask\") not in list(self.look_up_mask.keys()):\n",
        "                                    raise Exception(\n",
        "                                        f\"Specified Transform {transform_data.get('transform_mask')} is not available please select from following Options :{list(self.look_up_mask.keys())}\")\n",
        "                                else:\n",
        "                                    mask_apply = self.look_up_mask.get(transform_data.get(\"transform_mask\"))\n",
        "                                    converted_dtype = dtype.__call__(source_data_value)\n",
        "                                    mask = f'converted_dtype{mask_apply}'\n",
        "                                    curated_value = eval(mask)\n",
        "                                    self.json_data_transformed[destination_field_name] = curated_value\n",
        "\n",
        "                            else:\n",
        "                                self.json_data_transformed[destination_field_name] = dtype.__call__(source_data_value)\n",
        "\n",
        "        return self.json_data_transformed"
      ]
    },
    {
      "cell_type": "code",
      "execution_count": 33,
      "id": "054ea345",
      "metadata": {
        "id": "054ea345",
        "colab": {
          "base_uri": "https://localhost:8080/"
        },
        "outputId": "4984f43e-f48c-4ae6-d36a-6434ca96192d"
      },
      "outputs": [
        {
          "output_type": "stream",
          "name": "stdout",
          "text": [
            "{'AreaNumber': '1', 'AreaName': 'rogers park', 'Population2020': 55628}\n",
            "{'AreaNumber': '2', 'AreaName': 'west ridge', 'Population2020': 77122}\n",
            "{'AreaNumber': '3', 'AreaName': 'uptown', 'Population2020': 57182}\n",
            "{'AreaNumber': '4', 'AreaName': 'lincoln square', 'Population2020': 40494}\n",
            "{'AreaNumber': '5', 'AreaName': 'north center', 'Population2020': 35114}\n",
            "{'AreaNumber': '6', 'AreaName': 'lake view', 'Population2020': 103050}\n",
            "{'AreaNumber': '7', 'AreaName': 'lincoln park', 'Population2020': 70492}\n",
            "{'AreaNumber': '8', 'AreaName': 'near north side', 'Population2020': 105481}\n",
            "{'AreaNumber': '9', 'AreaName': 'edison park', 'Population2020': 11525}\n",
            "{'AreaNumber': '10', 'AreaName': 'norwood park', 'Population2020': 38303}\n",
            "{'AreaNumber': '11', 'AreaName': 'jefferson park', 'Population2020': 26216}\n",
            "{'AreaNumber': '12', 'AreaName': 'forest glen', 'Population2020': 19596}\n",
            "{'AreaNumber': '13', 'AreaName': 'north park', 'Population2020': 17559}\n",
            "{'AreaNumber': '14', 'AreaName': 'albany park', 'Population2020': 48396}\n",
            "{'AreaNumber': '15', 'AreaName': 'portage park', 'Population2020': 63020}\n",
            "{'AreaNumber': '16', 'AreaName': 'irving park', 'Population2020': 51940}\n",
            "{'AreaNumber': '17', 'AreaName': 'dunning', 'Population2020': 43147}\n",
            "{'AreaNumber': '18', 'AreaName': 'montclare', 'Population2020': 14401}\n",
            "{'AreaNumber': '19', 'AreaName': 'belmont cragin', 'Population2020': 78116}\n",
            "{'AreaNumber': '20', 'AreaName': 'hermosa', 'Population2020': 24062}\n",
            "{'AreaNumber': '21', 'AreaName': 'avondale', 'Population2020': 36257}\n",
            "{'AreaNumber': '22', 'AreaName': 'logan square', 'Population2020': 71665}\n",
            "{'AreaNumber': '23', 'AreaName': 'humboldt park', 'Population2020': 54165}\n",
            "{'AreaNumber': '24', 'AreaName': 'west town', 'Population2020': 87781}\n",
            "{'AreaNumber': '25', 'AreaName': 'austin', 'Population2020': 96557}\n",
            "{'AreaNumber': '26', 'AreaName': 'west garfield park', 'Population2020': 17433}\n",
            "{'AreaNumber': '27', 'AreaName': 'east garfield park', 'Population2020': 19992}\n",
            "{'AreaNumber': '28', 'AreaName': 'near west side', 'Population2020': 67881}\n",
            "{'AreaNumber': '29', 'AreaName': 'north lawndale', 'Population2020': 34794}\n",
            "{'AreaNumber': '30', 'AreaName': 'south lawndale', 'Population2020': 71399}\n",
            "{'AreaNumber': '31', 'AreaName': 'lower west side', 'Population2020': 33751}\n",
            "{'AreaNumber': '32', 'AreaName': '(the)\\xa0loop[11]', 'Population2020': 42298}\n",
            "{'AreaNumber': '33', 'AreaName': 'near south side', 'Population2020': 28795}\n",
            "{'AreaNumber': '34', 'AreaName': 'armour square', 'Population2020': 13890}\n",
            "{'AreaNumber': '35', 'AreaName': 'douglas', 'Population2020': 20291}\n",
            "{'AreaNumber': '36', 'AreaName': 'oakland', 'Population2020': 6799}\n",
            "{'AreaNumber': '37', 'AreaName': 'fuller park', 'Population2020': 2567}\n",
            "{'AreaNumber': '38', 'AreaName': 'grand boulevard', 'Population2020': 24589}\n",
            "{'AreaNumber': '39', 'AreaName': 'kenwood', 'Population2020': 19116}\n",
            "{'AreaNumber': '40', 'AreaName': 'washington park', 'Population2020': 12707}\n",
            "{'AreaNumber': '41', 'AreaName': 'hyde park', 'Population2020': 29456}\n",
            "{'AreaNumber': '42', 'AreaName': 'woodlawn', 'Population2020': 24425}\n",
            "{'AreaNumber': '43', 'AreaName': 'south shore', 'Population2020': 53971}\n",
            "{'AreaNumber': '44', 'AreaName': 'chatham', 'Population2020': 31710}\n",
            "{'AreaNumber': '45', 'AreaName': 'avalon park', 'Population2020': 9458}\n",
            "{'AreaNumber': '46', 'AreaName': 'south chicago', 'Population2020': 27300}\n",
            "{'AreaNumber': '47', 'AreaName': 'burnside', 'Population2020': 2527}\n",
            "{'AreaNumber': '48', 'AreaName': 'calumet heights', 'Population2020': 13088}\n",
            "{'AreaNumber': '49', 'AreaName': 'roseland', 'Population2020': 38816}\n",
            "{'AreaNumber': '50', 'AreaName': 'pullman', 'Population2020': 6820}\n",
            "{'AreaNumber': '51', 'AreaName': 'south deering', 'Population2020': 14105}\n",
            "{'AreaNumber': '52', 'AreaName': 'east side', 'Population2020': 21724}\n",
            "{'AreaNumber': '53', 'AreaName': 'west pullman', 'Population2020': 26104}\n",
            "{'AreaNumber': '54', 'AreaName': 'riverdale', 'Population2020': 7262}\n",
            "{'AreaNumber': '55', 'AreaName': 'hegewisch', 'Population2020': 10027}\n",
            "{'AreaNumber': '56', 'AreaName': 'garfield ridge', 'Population2020': 35439}\n",
            "{'AreaNumber': '57', 'AreaName': 'archer heights', 'Population2020': 14196}\n",
            "{'AreaNumber': '58', 'AreaName': 'brighton park', 'Population2020': 45053}\n",
            "{'AreaNumber': '59', 'AreaName': 'mckinley park', 'Population2020': 15923}\n",
            "{'AreaNumber': '60', 'AreaName': 'bridgeport', 'Population2020': 33702}\n",
            "{'AreaNumber': '61', 'AreaName': 'new city', 'Population2020': 43628}\n",
            "{'AreaNumber': '62', 'AreaName': 'west elsdon', 'Population2020': 18394}\n",
            "{'AreaNumber': '63', 'AreaName': 'gage park', 'Population2020': 39540}\n",
            "{'AreaNumber': '64', 'AreaName': 'clearing', 'Population2020': 24473}\n",
            "{'AreaNumber': '65', 'AreaName': 'west lawn', 'Population2020': 33662}\n",
            "{'AreaNumber': '66', 'AreaName': 'chicago lawn', 'Population2020': 55931}\n",
            "{'AreaNumber': '67', 'AreaName': 'west englewood', 'Population2020': 29647}\n",
            "{'AreaNumber': '68', 'AreaName': 'englewood', 'Population2020': 24369}\n",
            "{'AreaNumber': '69', 'AreaName': 'greater grand crossing', 'Population2020': 31471}\n",
            "{'AreaNumber': '70', 'AreaName': 'ashburn', 'Population2020': 41098}\n",
            "{'AreaNumber': '71', 'AreaName': 'auburn gresham', 'Population2020': 44878}\n",
            "{'AreaNumber': '72', 'AreaName': 'beverly', 'Population2020': 20027}\n",
            "{'AreaNumber': '73', 'AreaName': 'washington heights', 'Population2020': 25065}\n",
            "{'AreaNumber': '74', 'AreaName': 'mount greenwood', 'Population2020': 18628}\n",
            "{'AreaNumber': '75', 'AreaName': 'morgan park', 'Population2020': 21186}\n",
            "{'AreaNumber': '76', 'AreaName': \"o'hare\", 'Population2020': 13418}\n",
            "{'AreaNumber': '77', 'AreaName': 'edgewater', 'Population2020': 56296}\n",
            "{'AreaNumber': 'Total', 'AreaName': 'chicago[12]', 'Population2020': 2746388}\n"
          ]
        }
      ],
      "source": [
        "transformed_data = []\n",
        "\n",
        "for item in json_data:\n",
        "    helper = STTM(input_json=item)\n",
        "    response = helper.get_transformed_data()\n",
        "    transformed_data.append(response)\n",
        "    print(response)\n",
        "\n"
      ]
    },
    {
      "cell_type": "code",
      "source": [
        "pd.DataFrame(transformed_data).to_csv('Areas Codes and Names - After STTM.csv', index=False)"
      ],
      "metadata": {
        "id": "Ou-C3_H9Oo8u"
      },
      "id": "Ou-C3_H9Oo8u",
      "execution_count": 34,
      "outputs": []
    },
    {
      "cell_type": "code",
      "source": [],
      "metadata": {
        "id": "JpFS5A1nhh5g"
      },
      "id": "JpFS5A1nhh5g",
      "execution_count": null,
      "outputs": []
    }
  ],
  "metadata": {
    "kernelspec": {
      "display_name": "Python 3",
      "language": "python",
      "name": "python3"
    },
    "language_info": {
      "codemirror_mode": {
        "name": "ipython",
        "version": 3
      },
      "file_extension": ".py",
      "mimetype": "text/x-python",
      "name": "python",
      "nbconvert_exporter": "python",
      "pygments_lexer": "ipython3",
      "version": "3.8.8"
    },
    "colab": {
      "provenance": []
    }
  },
  "nbformat": 4,
  "nbformat_minor": 5
}